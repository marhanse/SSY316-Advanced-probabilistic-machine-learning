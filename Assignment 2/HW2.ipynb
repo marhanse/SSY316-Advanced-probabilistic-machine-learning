{
 "cells": [
  {
   "cell_type": "code",
   "execution_count": 3,
   "metadata": {},
   "outputs": [],
   "source": [
    "import numpy as np             \n",
    "import pandas as pd  #Python Data Analysis Library handle data in a user friendly way\n",
    "import scipy as sc\n",
    "import matplotlib.pyplot as plt #for plots\n",
    "import seaborn as sns # for better plots\n",
    "%matplotlib inline\n",
    "from sklearn import linear_model # A very popular Python library for Machine Learning\n",
    "from sklearn.linear_model import LinearRegression\n",
    "from sklearn.model_selection import train_test_split #needed to for assessing prediction\n",
    "from sklearn import datasets ## imports datasets from scikit-learn\n",
    "import statsmodels.api as sm\n",
    "\n",
    "from itertools import combinations"
   ]
  },
  {
   "cell_type": "markdown",
   "metadata": {},
   "source": [
    "We will begin with generating data."
   ]
  },
  {
   "cell_type": "code",
   "execution_count": 13,
   "metadata": {},
   "outputs": [
    {
     "data": {
      "image/png": "[encoded data removed]",
      "text/plain": [
       "<Figure size 640x480 with 1 Axes>"
      ]
     },
     "metadata": {},
     "output_type": "display_data"
    }
   ],
   "source": [
    "#Polynomial fitting exercises\n",
    "np.random.seed(1)\n",
    "n = 20 #number of points\n",
    "x = np.linspace(0, 1, n)\n",
    "f = np.sin(2*np.pi*x)\n",
    "y = f+0.3*np.random.randn(n)\n",
    "#plt.plot(xg,f,label='true process')\n",
    "plt.plot(x,y,'o',label='data')\n",
    "plt.plot(x,f,label='true process')\n",
    "plt.legend()\n",
    "plt.savefig(\"Linnear_Regression_task.png\")\n",
    "plt.show()"
   ]
  },
  {
   "cell_type": "markdown",
   "metadata": {},
   "source": [
    "We put x,y into the pandas dataframe called data. Also put a vector of ones as x0."
   ]
  },
  {
   "cell_type": "code",
   "execution_count": 5,
   "metadata": {},
   "outputs": [
    {
     "data": {
      "text/html": [
       "<div>\n",
       "<style scoped>\n",
       "    .dataframe tbody tr th:only-of-type {\n",
       "        vertical-align: middle;\n",
       "    }\n",
       "\n",
       "    .dataframe tbody tr th {\n",
       "        vertical-align: top;\n",
       "    }\n",
       "\n",
       "    .dataframe thead th {\n",
       "        text-align: right;\n",
       "    }\n",
       "</style>\n",
       "<table border=\"1\" class=\"dataframe\">\n",
       "  <thead>\n",
       "    <tr style=\"text-align: right;\">\n",
       "      <th></th>\n",
       "      <th>y</th>\n",
       "      <th>x0</th>\n",
       "      <th>x</th>\n",
       "      <th>x2</th>\n",
       "      <th>x3</th>\n",
       "      <th>x4</th>\n",
       "      <th>x5</th>\n",
       "      <th>x6</th>\n",
       "      <th>x7</th>\n",
       "      <th>x8</th>\n",
       "      <th>x9</th>\n",
       "      <th>x10</th>\n",
       "    </tr>\n",
       "  </thead>\n",
       "  <tbody>\n",
       "    <tr>\n",
       "      <th>0</th>\n",
       "      <td>0.487304</td>\n",
       "      <td>1.0</td>\n",
       "      <td>0.000000</td>\n",
       "      <td>0.000000</td>\n",
       "      <td>0.000000</td>\n",
       "      <td>0.000000</td>\n",
       "      <td>0.000000e+00</td>\n",
       "      <td>0.000000e+00</td>\n",
       "      <td>0.000000e+00</td>\n",
       "      <td>0.000000e+00</td>\n",
       "      <td>0.000000e+00</td>\n",
       "      <td>0.000000e+00</td>\n",
       "    </tr>\n",
       "    <tr>\n",
       "      <th>1</th>\n",
       "      <td>0.141173</td>\n",
       "      <td>1.0</td>\n",
       "      <td>0.052632</td>\n",
       "      <td>0.002770</td>\n",
       "      <td>0.000146</td>\n",
       "      <td>0.000008</td>\n",
       "      <td>4.038611e-07</td>\n",
       "      <td>2.125585e-08</td>\n",
       "      <td>1.118729e-09</td>\n",
       "      <td>5.888046e-11</td>\n",
       "      <td>3.098972e-12</td>\n",
       "      <td>1.631038e-13</td>\n",
       "    </tr>\n",
       "    <tr>\n",
       "      <th>2</th>\n",
       "      <td>0.455761</td>\n",
       "      <td>1.0</td>\n",
       "      <td>0.105263</td>\n",
       "      <td>0.011080</td>\n",
       "      <td>0.001166</td>\n",
       "      <td>0.000123</td>\n",
       "      <td>1.292355e-05</td>\n",
       "      <td>1.360374e-06</td>\n",
       "      <td>1.431973e-07</td>\n",
       "      <td>1.507340e-08</td>\n",
       "      <td>1.586673e-09</td>\n",
       "      <td>1.670183e-10</td>\n",
       "    </tr>\n",
       "    <tr>\n",
       "      <th>3</th>\n",
       "      <td>0.515276</td>\n",
       "      <td>1.0</td>\n",
       "      <td>0.157895</td>\n",
       "      <td>0.024931</td>\n",
       "      <td>0.003936</td>\n",
       "      <td>0.000622</td>\n",
       "      <td>9.813824e-05</td>\n",
       "      <td>1.549551e-05</td>\n",
       "      <td>2.446660e-06</td>\n",
       "      <td>3.863147e-07</td>\n",
       "      <td>6.099706e-08</td>\n",
       "      <td>9.631114e-09</td>\n",
       "    </tr>\n",
       "    <tr>\n",
       "      <th>4</th>\n",
       "      <td>1.229023</td>\n",
       "      <td>1.0</td>\n",
       "      <td>0.210526</td>\n",
       "      <td>0.044321</td>\n",
       "      <td>0.009331</td>\n",
       "      <td>0.001964</td>\n",
       "      <td>4.135537e-04</td>\n",
       "      <td>8.706395e-05</td>\n",
       "      <td>1.832925e-05</td>\n",
       "      <td>3.858790e-06</td>\n",
       "      <td>8.123768e-07</td>\n",
       "      <td>1.710267e-07</td>\n",
       "    </tr>\n",
       "  </tbody>\n",
       "</table>\n",
       "</div>"
      ],
      "text/plain": [
       "          y   x0         x        x2        x3        x4            x5  \\\n",
       "0  0.487304  1.0  0.000000  0.000000  0.000000  0.000000  0.000000e+00   \n",
       "1  0.141173  1.0  0.052632  0.002770  0.000146  0.000008  4.038611e-07   \n",
       "2  0.455761  1.0  0.105263  0.011080  0.001166  0.000123  1.292355e-05   \n",
       "3  0.515276  1.0  0.157895  0.024931  0.003936  0.000622  9.813824e-05   \n",
       "4  1.229023  1.0  0.210526  0.044321  0.009331  0.001964  4.135537e-04   \n",
       "\n",
       "             x6            x7            x8            x9           x10  \n",
       "0  0.000000e+00  0.000000e+00  0.000000e+00  0.000000e+00  0.000000e+00  \n",
       "1  2.125585e-08  1.118729e-09  5.888046e-11  3.098972e-12  1.631038e-13  \n",
       "2  1.360374e-06  1.431973e-07  1.507340e-08  1.586673e-09  1.670183e-10  \n",
       "3  1.549551e-05  2.446660e-06  3.863147e-07  6.099706e-08  9.631114e-09  \n",
       "4  8.706395e-05  1.832925e-05  3.858790e-06  8.123768e-07  1.710267e-07  "
      ]
     },
     "execution_count": 5,
     "metadata": {},
     "output_type": "execute_result"
    }
   ],
   "source": [
    "x0 = np.ones(n)\n",
    "data = pd.DataFrame(np.column_stack([y,x0,x]),columns=['y','x0','x']) \n",
    "#Expand the data including powers of x up to 10\n",
    "for i in range(2,11):  #executes the following indented commands for i varying from 3 to 9\n",
    "    colname = 'x%d'%i # the %d %i puts a different number in the name of each variable\n",
    "    data[colname] = data['x']**i #raise to the power of i\n",
    "    # the for loop continues until the first time a command is not indented.\n",
    "data.head()"
   ]
  },
  {
   "cell_type": "code",
   "execution_count": 16,
   "metadata": {},
   "outputs": [
    {
     "data": {
      "image/png": "[encoded data removed]",
      "text/plain": [
       "<Figure size 640x480 with 1 Axes>"
      ]
     },
     "metadata": {},
     "output_type": "display_data"
    }
   ],
   "source": [
    "npower = 3\n",
    "predictors = ['x']\n",
    "predictors.extend(['x%d'%i for i in range(2,npower+1)])\n",
    "linreg = LinearRegression(fit_intercept=True)\n",
    "linreg.fit(data[predictors],data['y'])\n",
    "y_pred = linreg.predict(data[predictors])\n",
    "plt.plot(data['x'],y_pred, label='LS fit')\n",
    "plt.plot(data['x'],data['y'],'o',label='data')\n",
    "plt.plot(x,f,label='true process')\n",
    "plt.title('Plot for power: %d'%npower)\n",
    "plt.legend()\n",
    "plt.savefig(\"Linnear_Regression_task_power3.png\")\n",
    "plt.show()"
   ]
  },
  {
   "cell_type": "markdown",
   "metadata": {},
   "source": [
    "### Matrix operations\n",
    "\n",
    "Below we find the MLE without the scikit linear regression function. For that we\n",
    "\n",
    "1. Form the design matrix $X$ and the response vector y\n",
    "2. Calculate the MLE as $$\\hat{\\beta} = (X^T X)^{-1}X^T y$$\n",
    "\n",
    "The code below does that and also prints $X^T X$ and $(X^T X)^{-1}$ for checking. ### Matrix operations\n",
    "\n",
    "Below we find the MLE without the scikit linear regression function. For that we\n",
    "\n",
    "1. Form the design matrix $X$ and the response vector y\n",
    "2. Calculate the MLE as $$\\hat{\\beta} = (X^T X)^{-1}X^T y$$\n",
    "\n",
    "The code below does that and also prints $X^T X$ and $(X^T X)^{-1}$ for checking."
   ]
  },
  {
   "cell_type": "code",
   "execution_count": 5,
   "metadata": {},
   "outputs": [
    {
     "data": {
      "text/plain": [
       "(           x0          x        x2\n",
       " x0  20.000000  10.000000  6.842105\n",
       " x   10.000000   6.842105  5.263158\n",
       " x2   6.842105   5.263158  4.317539,\n",
       " array([[ 0.37077922, -1.44350649,  1.17207792],\n",
       "        [-1.44350649,  7.96601732, -7.42316017],\n",
       "        [ 1.17207792, -7.42316017,  7.42316017]]),\n",
       " array([ 0.88516511, -2.23262046,  0.55870444]))"
      ]
     },
     "execution_count": 5,
     "metadata": {},
     "output_type": "execute_result"
    }
   ],
   "source": [
    "npower = 2\n",
    "predictors = ['x0','x']\n",
    "predictors.extend(['x%d'%i for i in range(2,npower+1)])\n",
    "X = data[predictors]\n",
    "y = data['y']\n",
    "XtX = X.T.dot(X) #X.T give X transpose X.dot(b) does matrix multiplication X*b\n",
    "XtX_inv = sc.linalg.inv(XtX) #sc.linalg.inv(A) provide the inverse of A\n",
    "beta = XtX_inv.dot(X.T.dot(y))\n",
    "XtX, XtX_inv, beta"
   ]
  },
  {
   "cell_type": "markdown",
   "metadata": {},
   "source": [
    "Check the $\\beta$ you found with the scikit function:\n",
    "\n",
    "The betas found with sklearn matches the betas above!"
   ]
  },
  {
   "cell_type": "code",
   "execution_count": 6,
   "metadata": {},
   "outputs": [
    {
     "name": "stdout",
     "output_type": "stream",
     "text": [
      "[ 0.88516511 -2.23262046  0.55870444]\n"
     ]
    }
   ],
   "source": [
    "regression_model = linear_model.LinearRegression(fit_intercept=False)\n",
    "regression_model.fit(X, y)\n",
    "beta = regression_model.coef_\n",
    "print(beta)"
   ]
  },
  {
   "cell_type": "markdown",
   "metadata": {},
   "source": [
    "We can go beyond the point estimate and calculate the variance of $\\hat{\\beta}$.\n",
    "\n",
    "The code below provides $\\hat{\\sigma}^2$, the covariance matrix $\\text{var}[\\hat{\\beta}] = \\hat{\\sigma}^2 (X^T X)^{-1}$,\n",
    "and its diagonal."
   ]
  },
  {
   "cell_type": "code",
   "execution_count": 7,
   "metadata": {},
   "outputs": [
    {
     "data": {
      "text/plain": [
       "(0.38812469825123386,\n",
       " array([[ 0.14390857, -0.56026052,  0.45491239],\n",
       "        [-0.56026052,  3.09180807, -2.8811118 ],\n",
       "        [ 0.45491239, -2.8811118 ,  2.8811118 ]]),\n",
       " array([0.14390857, 3.09180807, 2.8811118 ]))"
      ]
     },
     "execution_count": 7,
     "metadata": {},
     "output_type": "execute_result"
    }
   ],
   "source": [
    "n,p = X.shape\n",
    "e = y - X.dot(beta)# beta is your derived MLE coefficents in the previous cells\n",
    "sigma2_hat = e.T.dot(e)/(n-p)\n",
    "var_beta = sigma2_hat*(sc.linalg.inv(X.T.dot(X)))\n",
    "sigma2_hat, var_beta, np.diag(var_beta)"
   ]
  },
  {
   "cell_type": "markdown",
   "metadata": {},
   "source": [
    "With the above quantities we can calculate confidence intervals for MLE's. For those we will need the 97.5\\% point of the $t_{n-p}$ distribution. \n",
    "\n",
    "The following code does that and also puts the results in pandas dataframe."
   ]
  },
  {
   "cell_type": "code",
   "execution_count": 8,
   "metadata": {},
   "outputs": [
    {
     "data": {
      "text/html": [
       "<div>\n",
       "<style scoped>\n",
       "    .dataframe tbody tr th:only-of-type {\n",
       "        vertical-align: middle;\n",
       "    }\n",
       "\n",
       "    .dataframe tbody tr th {\n",
       "        vertical-align: top;\n",
       "    }\n",
       "\n",
       "    .dataframe thead th {\n",
       "        text-align: right;\n",
       "    }\n",
       "</style>\n",
       "<table border=\"1\" class=\"dataframe\">\n",
       "  <thead>\n",
       "    <tr style=\"text-align: right;\">\n",
       "      <th></th>\n",
       "      <th>coefficient</th>\n",
       "      <th>se</th>\n",
       "      <th>lower 97.5% bound</th>\n",
       "      <th>upper 97.5% bound</th>\n",
       "    </tr>\n",
       "  </thead>\n",
       "  <tbody>\n",
       "    <tr>\n",
       "      <th>intercept</th>\n",
       "      <td>0.885165</td>\n",
       "      <td>0.379353</td>\n",
       "      <td>0.084801</td>\n",
       "      <td>1.685530</td>\n",
       "    </tr>\n",
       "    <tr>\n",
       "      <th>x</th>\n",
       "      <td>-2.232620</td>\n",
       "      <td>1.758354</td>\n",
       "      <td>-5.942423</td>\n",
       "      <td>1.477182</td>\n",
       "    </tr>\n",
       "    <tr>\n",
       "      <th>x2</th>\n",
       "      <td>0.558704</td>\n",
       "      <td>1.697384</td>\n",
       "      <td>-3.022462</td>\n",
       "      <td>4.139871</td>\n",
       "    </tr>\n",
       "  </tbody>\n",
       "</table>\n",
       "</div>"
      ],
      "text/plain": [
       "           coefficient        se  lower 97.5% bound  upper 97.5% bound\n",
       "intercept     0.885165  0.379353           0.084801           1.685530\n",
       "x            -2.232620  1.758354          -5.942423           1.477182\n",
       "x2            0.558704  1.697384          -3.022462           4.139871"
      ]
     },
     "execution_count": 8,
     "metadata": {},
     "output_type": "execute_result"
    }
   ],
   "source": [
    "#calculate 97.5% CI for beta and present output via a pandas data frame \n",
    "tval = sc.stats.t.ppf(0.975,n-p)\n",
    "std_beta = np.sqrt(np.diag(var_beta))\n",
    "lower95 = beta - tval*std_beta\n",
    "upper95 = beta + tval*std_beta\n",
    "results = np.column_stack([beta,std_beta,lower95,upper95])\n",
    "col = ['coefficient','se','lower 97.5% bound','upper 97.5% bound']\n",
    "ind = ['intercept','x','x2']\n",
    "results = pd.DataFrame(results,columns = col,index=ind)\n",
    "results"
   ]
  },
  {
   "cell_type": "markdown",
   "metadata": {},
   "source": [
    "To check our answers we also use the relevant function (.OLS) of the library **statsmodels**  "
   ]
  },
  {
   "cell_type": "code",
   "execution_count": 9,
   "metadata": {},
   "outputs": [
    {
     "data": {
      "text/html": [
       "<table class=\"simpletable\">\n",
       "<caption>OLS Regression Results</caption>\n",
       "<tr>\n",
       "  <th>Dep. Variable:</th>            <td>y</td>        <th>  R-squared:         </th> <td>   0.441</td>\n",
       "</tr>\n",
       "<tr>\n",
       "  <th>Model:</th>                   <td>OLS</td>       <th>  Adj. R-squared:    </th> <td>   0.375</td>\n",
       "</tr>\n",
       "<tr>\n",
       "  <th>Method:</th>             <td>Least Squares</td>  <th>  F-statistic:       </th> <td>   6.704</td>\n",
       "</tr>\n",
       "<tr>\n",
       "  <th>Date:</th>             <td>Thu, 21 Nov 2024</td> <th>  Prob (F-statistic):</th>  <td>0.00714</td>\n",
       "</tr>\n",
       "<tr>\n",
       "  <th>Time:</th>                 <td>09:02:57</td>     <th>  Log-Likelihood:    </th> <td> -17.289</td>\n",
       "</tr>\n",
       "<tr>\n",
       "  <th>No. Observations:</th>      <td>    20</td>      <th>  AIC:               </th> <td>   40.58</td>\n",
       "</tr>\n",
       "<tr>\n",
       "  <th>Df Residuals:</th>          <td>    17</td>      <th>  BIC:               </th> <td>   43.57</td>\n",
       "</tr>\n",
       "<tr>\n",
       "  <th>Df Model:</th>              <td>     2</td>      <th>                     </th>     <td> </td>   \n",
       "</tr>\n",
       "<tr>\n",
       "  <th>Covariance Type:</th>      <td>nonrobust</td>    <th>                     </th>     <td> </td>   \n",
       "</tr>\n",
       "</table>\n",
       "<table class=\"simpletable\">\n",
       "<tr>\n",
       "    <td></td>       <th>coef</th>     <th>std err</th>      <th>t</th>      <th>P>|t|</th>  <th>[0.025</th>    <th>0.975]</th>  \n",
       "</tr>\n",
       "<tr>\n",
       "  <th>const</th> <td>    0.8852</td> <td>    0.379</td> <td>    2.333</td> <td> 0.032</td> <td>    0.085</td> <td>    1.686</td>\n",
       "</tr>\n",
       "<tr>\n",
       "  <th>x</th>     <td>   -2.2326</td> <td>    1.758</td> <td>   -1.270</td> <td> 0.221</td> <td>   -5.942</td> <td>    1.477</td>\n",
       "</tr>\n",
       "<tr>\n",
       "  <th>x2</th>    <td>    0.5587</td> <td>    1.697</td> <td>    0.329</td> <td> 0.746</td> <td>   -3.022</td> <td>    4.140</td>\n",
       "</tr>\n",
       "</table>\n",
       "<table class=\"simpletable\">\n",
       "<tr>\n",
       "  <th>Omnibus:</th>       <td> 1.146</td> <th>  Durbin-Watson:     </th> <td>   1.109</td>\n",
       "</tr>\n",
       "<tr>\n",
       "  <th>Prob(Omnibus):</th> <td> 0.564</td> <th>  Jarque-Bera (JB):  </th> <td>   1.040</td>\n",
       "</tr>\n",
       "<tr>\n",
       "  <th>Skew:</th>          <td> 0.412</td> <th>  Prob(JB):          </th> <td>   0.595</td>\n",
       "</tr>\n",
       "<tr>\n",
       "  <th>Kurtosis:</th>      <td> 2.245</td> <th>  Cond. No.          </th> <td>    20.9</td>\n",
       "</tr>\n",
       "</table><br/><br/>Notes:<br/>[1] Standard Errors assume that the covariance matrix of the errors is correctly specified."
      ],
      "text/latex": [
       "\\begin{center}\n",
       "\\begin{tabular}{lclc}\n",
       "\\toprule\n",
       "\\textbf{Dep. Variable:}    &        y         & \\textbf{  R-squared:         } &     0.441   \\\\\n",
       "\\textbf{Model:}            &       OLS        & \\textbf{  Adj. R-squared:    } &     0.375   \\\\\n",
       "\\textbf{Method:}           &  Least Squares   & \\textbf{  F-statistic:       } &     6.704   \\\\\n",
       "\\textbf{Date:}             & Thu, 21 Nov 2024 & \\textbf{  Prob (F-statistic):} &  0.00714    \\\\\n",
       "\\textbf{Time:}             &     09:02:57     & \\textbf{  Log-Likelihood:    } &   -17.289   \\\\\n",
       "\\textbf{No. Observations:} &          20      & \\textbf{  AIC:               } &     40.58   \\\\\n",
       "\\textbf{Df Residuals:}     &          17      & \\textbf{  BIC:               } &     43.57   \\\\\n",
       "\\textbf{Df Model:}         &           2      & \\textbf{                     } &             \\\\\n",
       "\\textbf{Covariance Type:}  &    nonrobust     & \\textbf{                     } &             \\\\\n",
       "\\bottomrule\n",
       "\\end{tabular}\n",
       "\\begin{tabular}{lcccccc}\n",
       "               & \\textbf{coef} & \\textbf{std err} & \\textbf{t} & \\textbf{P$> |$t$|$} & \\textbf{[0.025} & \\textbf{0.975]}  \\\\\n",
       "\\midrule\n",
       "\\textbf{const} &       0.8852  &        0.379     &     2.333  &         0.032        &        0.085    &        1.686     \\\\\n",
       "\\textbf{x}     &      -2.2326  &        1.758     &    -1.270  &         0.221        &       -5.942    &        1.477     \\\\\n",
       "\\textbf{x2}    &       0.5587  &        1.697     &     0.329  &         0.746        &       -3.022    &        4.140     \\\\\n",
       "\\bottomrule\n",
       "\\end{tabular}\n",
       "\\begin{tabular}{lclc}\n",
       "\\textbf{Omnibus:}       &  1.146 & \\textbf{  Durbin-Watson:     } &    1.109  \\\\\n",
       "\\textbf{Prob(Omnibus):} &  0.564 & \\textbf{  Jarque-Bera (JB):  } &    1.040  \\\\\n",
       "\\textbf{Skew:}          &  0.412 & \\textbf{  Prob(JB):          } &    0.595  \\\\\n",
       "\\textbf{Kurtosis:}      &  2.245 & \\textbf{  Cond. No.          } &     20.9  \\\\\n",
       "\\bottomrule\n",
       "\\end{tabular}\n",
       "%\\caption{OLS Regression Results}\n",
       "\\end{center}\n",
       "\n",
       "Notes: \\newline\n",
       " [1] Standard Errors assume that the covariance matrix of the errors is correctly specified."
      ],
      "text/plain": [
       "<class 'statsmodels.iolib.summary.Summary'>\n",
       "\"\"\"\n",
       "                            OLS Regression Results                            \n",
       "==============================================================================\n",
       "Dep. Variable:                      y   R-squared:                       0.441\n",
       "Model:                            OLS   Adj. R-squared:                  0.375\n",
       "Method:                 Least Squares   F-statistic:                     6.704\n",
       "Date:                Thu, 21 Nov 2024   Prob (F-statistic):            0.00714\n",
       "Time:                        09:02:57   Log-Likelihood:                -17.289\n",
       "No. Observations:                  20   AIC:                             40.58\n",
       "Df Residuals:                      17   BIC:                             43.57\n",
       "Df Model:                           2                                         \n",
       "Covariance Type:            nonrobust                                         \n",
       "==============================================================================\n",
       "                 coef    std err          t      P>|t|      [0.025      0.975]\n",
       "------------------------------------------------------------------------------\n",
       "const          0.8852      0.379      2.333      0.032       0.085       1.686\n",
       "x             -2.2326      1.758     -1.270      0.221      -5.942       1.477\n",
       "x2             0.5587      1.697      0.329      0.746      -3.022       4.140\n",
       "==============================================================================\n",
       "Omnibus:                        1.146   Durbin-Watson:                   1.109\n",
       "Prob(Omnibus):                  0.564   Jarque-Bera (JB):                1.040\n",
       "Skew:                           0.412   Prob(JB):                        0.595\n",
       "Kurtosis:                       2.245   Cond. No.                         20.9\n",
       "==============================================================================\n",
       "\n",
       "Notes:\n",
       "[1] Standard Errors assume that the covariance matrix of the errors is correctly specified.\n",
       "\"\"\""
      ]
     },
     "execution_count": 9,
     "metadata": {},
     "output_type": "execute_result"
    }
   ],
   "source": [
    "Poly = ['x','x2']\n",
    "X = data[Poly]\n",
    "X = sm.add_constant(X) \n",
    "model = sm.OLS(y, X).fit()\n",
    "model.summary()"
   ]
  },
  {
   "cell_type": "markdown",
   "metadata": {},
   "source": [
    "In the following cells:\n",
    "1. Obtain the MLEs and 97.5\\% confidence intervals for the 3rd order polynomial without using the scikit function.\n",
    "2. Check your answers against the statsmodels corresponding function (.OLS)"
   ]
  },
  {
   "cell_type": "code",
   "execution_count": 10,
   "metadata": {},
   "outputs": [
    {
     "name": "stdout",
     "output_type": "stream",
     "text": [
      "Coeffients: [-1.04599220e-02  1.01246635e+01 -3.11393971e+01  2.11320677e+01]\n"
     ]
    },
    {
     "data": {
      "text/html": [
       "<div>\n",
       "<style scoped>\n",
       "    .dataframe tbody tr th:only-of-type {\n",
       "        vertical-align: middle;\n",
       "    }\n",
       "\n",
       "    .dataframe tbody tr th {\n",
       "        vertical-align: top;\n",
       "    }\n",
       "\n",
       "    .dataframe thead th {\n",
       "        text-align: right;\n",
       "    }\n",
       "</style>\n",
       "<table border=\"1\" class=\"dataframe\">\n",
       "  <thead>\n",
       "    <tr style=\"text-align: right;\">\n",
       "      <th></th>\n",
       "      <th>coefficient</th>\n",
       "      <th>se</th>\n",
       "      <th>lower 97.5% bound</th>\n",
       "      <th>upper 97.5% bound</th>\n",
       "    </tr>\n",
       "  </thead>\n",
       "  <tbody>\n",
       "    <tr>\n",
       "      <th>intercept</th>\n",
       "      <td>-0.010460</td>\n",
       "      <td>0.290987</td>\n",
       "      <td>-0.627324</td>\n",
       "      <td>0.606404</td>\n",
       "    </tr>\n",
       "    <tr>\n",
       "      <th>x</th>\n",
       "      <td>10.124663</td>\n",
       "      <td>2.586393</td>\n",
       "      <td>4.641755</td>\n",
       "      <td>15.607572</td>\n",
       "    </tr>\n",
       "    <tr>\n",
       "      <th>x2</th>\n",
       "      <td>-31.139397</td>\n",
       "      <td>6.102501</td>\n",
       "      <td>-44.076122</td>\n",
       "      <td>-18.202672</td>\n",
       "    </tr>\n",
       "    <tr>\n",
       "      <th>x3</th>\n",
       "      <td>21.132068</td>\n",
       "      <td>4.006810</td>\n",
       "      <td>12.638011</td>\n",
       "      <td>29.626125</td>\n",
       "    </tr>\n",
       "  </tbody>\n",
       "</table>\n",
       "</div>"
      ],
      "text/plain": [
       "           coefficient        se  lower 97.5% bound  upper 97.5% bound\n",
       "intercept    -0.010460  0.290987          -0.627324           0.606404\n",
       "x            10.124663  2.586393           4.641755          15.607572\n",
       "x2          -31.139397  6.102501         -44.076122         -18.202672\n",
       "x3           21.132068  4.006810          12.638011          29.626125"
      ]
     },
     "execution_count": 10,
     "metadata": {},
     "output_type": "execute_result"
    }
   ],
   "source": [
    "npower = 3\n",
    "predictors = ['x0','x']\n",
    "predictors.extend(['x%d'%i for i in range(2,npower+1)])\n",
    "X = data[predictors]\n",
    "y = data['y']\n",
    "XtX = X.T.dot(X) #X.T give X transpose X.dot(b) does matrix multiplication X*b\n",
    "XtX_inv = sc.linalg.inv(XtX) #sc.linalg.inv(A) provide the inverse of A\n",
    "beta = XtX_inv.dot(X.T.dot(y))\n",
    "\n",
    "print(f\"Coeffients: {beta}\")\n",
    "\n",
    "n,p = X.shape\n",
    "e = y - X.dot(beta)# beta is your derived MLE coefficents in the previous cells\n",
    "sigma2_hat = e.T.dot(e)/(n-p)\n",
    "var_beta = sigma2_hat*(sc.linalg.inv(X.T.dot(X)))\n",
    "sigma2_hat, var_beta, np.diag(var_beta)\n",
    "\n",
    "#calculate 97.5% CI for beta and present output via a pandas data frame \n",
    "tval = sc.stats.t.ppf(0.975,n-p)\n",
    "std_beta = np.sqrt(np.diag(var_beta))\n",
    "lower95 = beta - tval*std_beta\n",
    "upper95 = beta + tval*std_beta\n",
    "results = np.column_stack([beta,std_beta,lower95,upper95])\n",
    "#print(results)\n",
    "col = ['coefficient','se','lower 97.5% bound','upper 97.5% bound']\n",
    "ind = ['intercept','x','x2', \"x3\"]\n",
    "results = pd.DataFrame(results,columns = col,index=ind)\n",
    "results"
   ]
  },
  {
   "cell_type": "code",
   "execution_count": 11,
   "metadata": {},
   "outputs": [
    {
     "data": {
      "text/html": [
       "<table class=\"simpletable\">\n",
       "<caption>OLS Regression Results</caption>\n",
       "<tr>\n",
       "  <th>Dep. Variable:</th>            <td>y</td>        <th>  R-squared:         </th> <td>   0.796</td>\n",
       "</tr>\n",
       "<tr>\n",
       "  <th>Model:</th>                   <td>OLS</td>       <th>  Adj. R-squared:    </th> <td>   0.758</td>\n",
       "</tr>\n",
       "<tr>\n",
       "  <th>Method:</th>             <td>Least Squares</td>  <th>  F-statistic:       </th> <td>   20.79</td>\n",
       "</tr>\n",
       "<tr>\n",
       "  <th>Date:</th>             <td>Thu, 21 Nov 2024</td> <th>  Prob (F-statistic):</th> <td>9.12e-06</td>\n",
       "</tr>\n",
       "<tr>\n",
       "  <th>Time:</th>                 <td>09:02:57</td>     <th>  Log-Likelihood:    </th> <td> -7.2153</td>\n",
       "</tr>\n",
       "<tr>\n",
       "  <th>No. Observations:</th>      <td>    20</td>      <th>  AIC:               </th> <td>   22.43</td>\n",
       "</tr>\n",
       "<tr>\n",
       "  <th>Df Residuals:</th>          <td>    16</td>      <th>  BIC:               </th> <td>   26.41</td>\n",
       "</tr>\n",
       "<tr>\n",
       "  <th>Df Model:</th>              <td>     3</td>      <th>                     </th>     <td> </td>   \n",
       "</tr>\n",
       "<tr>\n",
       "  <th>Covariance Type:</th>      <td>nonrobust</td>    <th>                     </th>     <td> </td>   \n",
       "</tr>\n",
       "</table>\n",
       "<table class=\"simpletable\">\n",
       "<tr>\n",
       "    <td></td>       <th>coef</th>     <th>std err</th>      <th>t</th>      <th>P>|t|</th>  <th>[0.025</th>    <th>0.975]</th>  \n",
       "</tr>\n",
       "<tr>\n",
       "  <th>const</th> <td>   -0.0105</td> <td>    0.291</td> <td>   -0.036</td> <td> 0.972</td> <td>   -0.627</td> <td>    0.606</td>\n",
       "</tr>\n",
       "<tr>\n",
       "  <th>x</th>     <td>   10.1247</td> <td>    2.586</td> <td>    3.915</td> <td> 0.001</td> <td>    4.642</td> <td>   15.608</td>\n",
       "</tr>\n",
       "<tr>\n",
       "  <th>x2</th>    <td>  -31.1394</td> <td>    6.103</td> <td>   -5.103</td> <td> 0.000</td> <td>  -44.076</td> <td>  -18.203</td>\n",
       "</tr>\n",
       "<tr>\n",
       "  <th>x3</th>    <td>   21.1321</td> <td>    4.007</td> <td>    5.274</td> <td> 0.000</td> <td>   12.638</td> <td>   29.626</td>\n",
       "</tr>\n",
       "</table>\n",
       "<table class=\"simpletable\">\n",
       "<tr>\n",
       "  <th>Omnibus:</th>       <td> 0.301</td> <th>  Durbin-Watson:     </th> <td>   2.750</td>\n",
       "</tr>\n",
       "<tr>\n",
       "  <th>Prob(Omnibus):</th> <td> 0.860</td> <th>  Jarque-Bera (JB):  </th> <td>   0.470</td>\n",
       "</tr>\n",
       "<tr>\n",
       "  <th>Skew:</th>          <td> 0.142</td> <th>  Prob(JB):          </th> <td>   0.790</td>\n",
       "</tr>\n",
       "<tr>\n",
       "  <th>Kurtosis:</th>      <td> 2.305</td> <th>  Cond. No.          </th> <td>    109.</td>\n",
       "</tr>\n",
       "</table><br/><br/>Notes:<br/>[1] Standard Errors assume that the covariance matrix of the errors is correctly specified."
      ],
      "text/latex": [
       "\\begin{center}\n",
       "\\begin{tabular}{lclc}\n",
       "\\toprule\n",
       "\\textbf{Dep. Variable:}    &        y         & \\textbf{  R-squared:         } &     0.796   \\\\\n",
       "\\textbf{Model:}            &       OLS        & \\textbf{  Adj. R-squared:    } &     0.758   \\\\\n",
       "\\textbf{Method:}           &  Least Squares   & \\textbf{  F-statistic:       } &     20.79   \\\\\n",
       "\\textbf{Date:}             & Thu, 21 Nov 2024 & \\textbf{  Prob (F-statistic):} &  9.12e-06   \\\\\n",
       "\\textbf{Time:}             &     09:02:57     & \\textbf{  Log-Likelihood:    } &   -7.2153   \\\\\n",
       "\\textbf{No. Observations:} &          20      & \\textbf{  AIC:               } &     22.43   \\\\\n",
       "\\textbf{Df Residuals:}     &          16      & \\textbf{  BIC:               } &     26.41   \\\\\n",
       "\\textbf{Df Model:}         &           3      & \\textbf{                     } &             \\\\\n",
       "\\textbf{Covariance Type:}  &    nonrobust     & \\textbf{                     } &             \\\\\n",
       "\\bottomrule\n",
       "\\end{tabular}\n",
       "\\begin{tabular}{lcccccc}\n",
       "               & \\textbf{coef} & \\textbf{std err} & \\textbf{t} & \\textbf{P$> |$t$|$} & \\textbf{[0.025} & \\textbf{0.975]}  \\\\\n",
       "\\midrule\n",
       "\\textbf{const} &      -0.0105  &        0.291     &    -0.036  &         0.972        &       -0.627    &        0.606     \\\\\n",
       "\\textbf{x}     &      10.1247  &        2.586     &     3.915  &         0.001        &        4.642    &       15.608     \\\\\n",
       "\\textbf{x2}    &     -31.1394  &        6.103     &    -5.103  &         0.000        &      -44.076    &      -18.203     \\\\\n",
       "\\textbf{x3}    &      21.1321  &        4.007     &     5.274  &         0.000        &       12.638    &       29.626     \\\\\n",
       "\\bottomrule\n",
       "\\end{tabular}\n",
       "\\begin{tabular}{lclc}\n",
       "\\textbf{Omnibus:}       &  0.301 & \\textbf{  Durbin-Watson:     } &    2.750  \\\\\n",
       "\\textbf{Prob(Omnibus):} &  0.860 & \\textbf{  Jarque-Bera (JB):  } &    0.470  \\\\\n",
       "\\textbf{Skew:}          &  0.142 & \\textbf{  Prob(JB):          } &    0.790  \\\\\n",
       "\\textbf{Kurtosis:}      &  2.305 & \\textbf{  Cond. No.          } &     109.  \\\\\n",
       "\\bottomrule\n",
       "\\end{tabular}\n",
       "%\\caption{OLS Regression Results}\n",
       "\\end{center}\n",
       "\n",
       "Notes: \\newline\n",
       " [1] Standard Errors assume that the covariance matrix of the errors is correctly specified."
      ],
      "text/plain": [
       "<class 'statsmodels.iolib.summary.Summary'>\n",
       "\"\"\"\n",
       "                            OLS Regression Results                            \n",
       "==============================================================================\n",
       "Dep. Variable:                      y   R-squared:                       0.796\n",
       "Model:                            OLS   Adj. R-squared:                  0.758\n",
       "Method:                 Least Squares   F-statistic:                     20.79\n",
       "Date:                Thu, 21 Nov 2024   Prob (F-statistic):           9.12e-06\n",
       "Time:                        09:02:57   Log-Likelihood:                -7.2153\n",
       "No. Observations:                  20   AIC:                             22.43\n",
       "Df Residuals:                      16   BIC:                             26.41\n",
       "Df Model:                           3                                         \n",
       "Covariance Type:            nonrobust                                         \n",
       "==============================================================================\n",
       "                 coef    std err          t      P>|t|      [0.025      0.975]\n",
       "------------------------------------------------------------------------------\n",
       "const         -0.0105      0.291     -0.036      0.972      -0.627       0.606\n",
       "x             10.1247      2.586      3.915      0.001       4.642      15.608\n",
       "x2           -31.1394      6.103     -5.103      0.000     -44.076     -18.203\n",
       "x3            21.1321      4.007      5.274      0.000      12.638      29.626\n",
       "==============================================================================\n",
       "Omnibus:                        0.301   Durbin-Watson:                   2.750\n",
       "Prob(Omnibus):                  0.860   Jarque-Bera (JB):                0.470\n",
       "Skew:                           0.142   Prob(JB):                        0.790\n",
       "Kurtosis:                       2.305   Cond. No.                         109.\n",
       "==============================================================================\n",
       "\n",
       "Notes:\n",
       "[1] Standard Errors assume that the covariance matrix of the errors is correctly specified.\n",
       "\"\"\""
      ]
     },
     "execution_count": 11,
     "metadata": {},
     "output_type": "execute_result"
    }
   ],
   "source": [
    "Poly = ['x','x2', \"x3\"]\n",
    "X = data[Poly]\n",
    "X = sm.add_constant(X) \n",
    "model = sm.OLS(y, X).fit()\n",
    "model.summary()"
   ]
  },
  {
   "cell_type": "markdown",
   "metadata": {},
   "source": [
    "We will now put all the previous talk into a function. In other words we will create our own function rather than using the stasmodels/scikit learn ones. \n",
    "\n",
    "The inputs of the function will be $X$, $y$ and the names of the predictors. The output will be a data frame with the results (MLE's, se's and 95\\% CI's).\n",
    "\n",
    "Write this function  below."
   ]
  },
  {
   "cell_type": "code",
   "execution_count": 19,
   "metadata": {},
   "outputs": [
    {
     "data": {
      "text/html": [
       "<div>\n",
       "<style scoped>\n",
       "    .dataframe tbody tr th:only-of-type {\n",
       "        vertical-align: middle;\n",
       "    }\n",
       "\n",
       "    .dataframe tbody tr th {\n",
       "        vertical-align: top;\n",
       "    }\n",
       "\n",
       "    .dataframe thead th {\n",
       "        text-align: right;\n",
       "    }\n",
       "</style>\n",
       "<table border=\"1\" class=\"dataframe\">\n",
       "  <thead>\n",
       "    <tr style=\"text-align: right;\">\n",
       "      <th></th>\n",
       "      <th>coefficient</th>\n",
       "      <th>se</th>\n",
       "      <th>lower 97% bound</th>\n",
       "      <th>upper 97% bound</th>\n",
       "    </tr>\n",
       "  </thead>\n",
       "  <tbody>\n",
       "    <tr>\n",
       "      <th>intercept</th>\n",
       "      <td>-0.010460</td>\n",
       "      <td>0.290987</td>\n",
       "      <td>-0.627324</td>\n",
       "      <td>0.606404</td>\n",
       "    </tr>\n",
       "    <tr>\n",
       "      <th>x</th>\n",
       "      <td>10.124663</td>\n",
       "      <td>2.586393</td>\n",
       "      <td>4.641755</td>\n",
       "      <td>15.607572</td>\n",
       "    </tr>\n",
       "    <tr>\n",
       "      <th>x2</th>\n",
       "      <td>-31.139397</td>\n",
       "      <td>6.102501</td>\n",
       "      <td>-44.076122</td>\n",
       "      <td>-18.202672</td>\n",
       "    </tr>\n",
       "    <tr>\n",
       "      <th>x3</th>\n",
       "      <td>21.132068</td>\n",
       "      <td>4.006810</td>\n",
       "      <td>12.638011</td>\n",
       "      <td>29.626125</td>\n",
       "    </tr>\n",
       "  </tbody>\n",
       "</table>\n",
       "</div>"
      ],
      "text/plain": [
       "           coefficient        se  lower 97% bound  upper 97% bound\n",
       "intercept    -0.010460  0.290987        -0.627324         0.606404\n",
       "x            10.124663  2.586393         4.641755        15.607572\n",
       "x2          -31.139397  6.102501       -44.076122       -18.202672\n",
       "x3           21.132068  4.006810        12.638011        29.626125"
      ]
     },
     "execution_count": 19,
     "metadata": {},
     "output_type": "execute_result"
    }
   ],
   "source": [
    "def linear_regression(X: np.array, y: np.array, predictors: list) -> pd.DataFrame:\n",
    "    XtX = X.T.dot(X) \n",
    "    XtX_inv = sc.linalg.inv(XtX) \n",
    "    beta = XtX_inv.dot(X.T.dot(y))\n",
    "\n",
    "    n,p = X.shape\n",
    "    e = y - X.dot(beta)# beta is your derived MLE coefficents in the previous cells\n",
    "    sigma2_hat = e.T.dot(e)/(n-p)\n",
    "    var_beta = sigma2_hat*(sc.linalg.inv(X.T.dot(X)))\n",
    "    sigma2_hat, var_beta, np.diag(var_beta)\n",
    "    \n",
    "    #calculate 95% CI for beta and present output via a pandas data frame \n",
    "    tval = sc.stats.t.ppf(0.975,n-p)\n",
    "    std_beta = np.sqrt(np.diag(var_beta))\n",
    "    lower95 = beta - tval*std_beta\n",
    "    upper95 = beta + tval*std_beta\n",
    "    results = np.column_stack([beta,std_beta,lower95,upper95])\n",
    "    col = ['coefficient','se','lower 97% bound','upper 97% bound']\n",
    "    ind = ['intercept'] + predictors[1:]\n",
    "    results = pd.DataFrame(results,columns = col,index=ind)\n",
    "    return results\n",
    "\n",
    "npower = 3\n",
    "predictors = ['x0','x']\n",
    "predictors.extend(['x%d'%i for i in range(2,npower+1)])\n",
    "X = data[predictors]\n",
    "y = data['y']\n",
    "\n",
    "linear_regression(X, y, predictors)"
   ]
  },
  {
   "cell_type": "markdown",
   "metadata": {},
   "source": [
    "### Bayesian Linear Regression\n",
    "\n",
    "We now turn to Bayesian inference. As before we will illustrate and then create a function that provides summaries of the posterior (Bayes estimates of $\\beta$ and 95\\% Credible Intervals).\n",
    "\n",
    "We start by calculating the posterior parameters that correspond to the unit information prior.\n",
    "\n",
    "Given $\\sigma^2$ and a **prior** of N($\\mu_0,\\sigma^2\\Omega_0)$, the **posterior** $\\pi(\\beta|X,y,\\sigma^2)$ is N($\\mu_n,\\sigma^2\\Omega_n^2$) where\n",
    "\n",
    "$$\\mu_n = (X^T X+\\Omega_0^{-1})^{-1} (\\Omega_0^{-1}\\mu_0 +X^{T}y)$$\n",
    "$$\\Omega_n =(X^T X +\\Omega_0^{-1})^{-1}$$\n",
    "\n",
    "To assign the unit information prior we set $\\Omega_0 = n(X^T X)^{-1}$ or else $\\Omega_0^{-1}=X^T X / n$.\n",
    "\n",
    "For $\\sigma^2$ if we set the **prior** $IGamma(a_0, b_0)$ we get the **posterior** $IGamma(a_n, b_n)$ where\n",
    "$$\n",
    "a_n = a_0+\\frac{n}{2}\n",
    "$$\n",
    "$$\n",
    "b_n = b_0+\\frac{1}{2} (y^T y + \\mu_0^T\\Omega_0^{-1}\\mu_0 -\\mu_n^T\\Omega_n^{-1}\\mu_n).\n",
    "$$"
   ]
  },
  {
   "cell_type": "markdown",
   "metadata": {},
   "source": [
    "Calculate posterior parameters in the following cell"
   ]
  },
  {
   "cell_type": "code",
   "execution_count": 24,
   "metadata": {},
   "outputs": [
    {
     "name": "stdout",
     "output_type": "stream",
     "text": [
      "Posterior mean (mu_n): [ 0.44437677 -0.59197546 -0.48754393 -0.16653853]\n",
      "Posterior covariance (Omega_n): [[ 0.1222622  -0.15604254 -0.01970191  0.02426713]\n",
      " [-0.15604254  0.62136094 -0.27665627 -0.1983229 ]\n",
      " [-0.01970191 -0.27665627  0.69304669 -0.29670317]\n",
      " [ 0.02426713 -0.1983229  -0.29670317  0.66570177]]\n",
      "Posterior shape parameter (a_n): 11.0\n",
      "Posterior scale parameter (b_n): 5.036870365926265\n"
     ]
    }
   ],
   "source": [
    "import scipy.stats as stats\n",
    "def calculate_posterior_parameters(X, y, mu_0, Omega_0, a_0, b_0):\n",
    "    # Calculate posterior parameters for beta\n",
    "    Omega_0_inv = np.linalg.inv(Omega_0)\n",
    "    XTX = np.dot(X.T, X)\n",
    "    mu_n = np.linalg.inv(XTX + Omega_0_inv).dot(Omega_0_inv.dot(mu_0) + np.dot(X.T, y))\n",
    "    Omega_n = np.linalg.inv(XTX + Omega_0_inv)\n",
    "    \n",
    "    # Calculate posterior parameters for sigma^2\n",
    "    n = len(y)\n",
    "    a_n = a_0 + n / 2\n",
    "    b_n = b_0 + 0.5 * (np.dot(y.T, y) + np.dot(mu_0.T, Omega_0_inv.dot(mu_0)) - np.dot(mu_n.T, np.linalg.inv(Omega_n).dot(mu_n)))\n",
    "    \n",
    "    return mu_n, Omega_n, a_n, b_n\n",
    "\n",
    "# Step 1\n",
    "npower = 3\n",
    "predictors = ['x0','x']\n",
    "predictors.extend(['x%d'%i for i in range(2,npower+1)])\n",
    "X = data[predictors]\n",
    "y = data['y']\n",
    "n,p = X.shape\n",
    "\n",
    "#Assumtion \n",
    "mu_0 = np.zeros(npower+1)\n",
    "Omega_0 = np.eye(npower+1)\n",
    "a_0 = 1\n",
    "b_0 = 1\n",
    "\n",
    "mu_n, Om_n, a_n, b_n = calculate_posterior_parameters(X, y, mu_0, Omega_0,a_0,b_0)#TODO check if a_0 and b_0 are correct values\n",
    "\n",
    "print(\"Posterior mean (mu_n):\", mu_n)\n",
    "print(\"Posterior covariance (Omega_n):\", Om_n)\n",
    "print(\"Posterior shape parameter (a_n):\", a_n)\n",
    "print(\"Posterior scale parameter (b_n):\", b_n)"
   ]
  },
  {
   "cell_type": "code",
   "execution_count": 25,
   "metadata": {},
   "outputs": [
    {
     "name": "stdout",
     "output_type": "stream",
     "text": [
      "Predictor: x0\n",
      "Mean: 0.444376773552293\n",
      "95% Credible Interval: [-0.24094446879495113, 1.1296980158995371]\n",
      "\n",
      "Predictor: x\n",
      "Mean: -0.5919754592217462\n",
      "95% Credible Interval: [-2.1369455073086074, 0.9529945888651151]\n",
      "\n",
      "Predictor: x2\n",
      "Mean: -0.48754393107971494\n",
      "95% Credible Interval: [-2.119202700191935, 1.1441148380325055]\n",
      "\n",
      "Predictor: x3\n",
      "Mean: -0.1665385291139334\n",
      "95% Credible Interval: [-1.76568391057673, 1.432606852348863]\n",
      "\n"
     ]
    }
   ],
   "source": [
    "def calculate_credible_intervals(mu_n, Omega_n, alpha=0.05):\n",
    "    # Calculate the standard deviation of the posterior distribution\n",
    "    std_n = np.sqrt(np.diag(Omega_n))\n",
    "    \n",
    "    # Calculate the critical value for the 95% credible interval\n",
    "    z = stats.norm.ppf(1 - alpha / 2)\n",
    "    \n",
    "    # Calculate the lower and upper bounds of the 95% credible interval\n",
    "    lower_bound = mu_n - z * std_n\n",
    "    upper_bound = mu_n + z * std_n\n",
    "    \n",
    "    return lower_bound, upper_bound\n",
    "\n",
    "lower_bound, upper_bound = calculate_credible_intervals(mu_n, Om_n)\n",
    "\n",
    "# Print the results\n",
    "for i, predictor in enumerate(predictors):\n",
    "    print(f\"Predictor: {predictor}\")\n",
    "    print(f\"Mean: {mu_n[i]}\")\n",
    "    print(f\"95% Credible Interval: [{lower_bound[i]}, {upper_bound[i]}]\\n\")"
   ]
  },
  {
   "cell_type": "markdown",
   "metadata": {},
   "source": [
    "#### Monte Carlo for credible intervals\n",
    "\n",
    "To obtain credible intervals for $\\beta$ we could use the $t$ distribution. But we would use Monte Carlo instead as this will cover more general models. e.g. logistic regression.\n",
    "\n",
    "So we will sample $N$ Monte Carlo samples from $\\pi(\\beta|y)$ and use them  for Monte Carlo inference (credible intervals, density plots etc)\n",
    "\n",
    "Monte Carlo Samples can be drawn by\n",
    "\n",
    "1. Generating samples $\\sigma_i^2$ from $Gamma(\\alpha_n,\\beta_n)$, $i=1,\\dots,N$,\n",
    "2. Draw $\\beta_i$ sample based on each $\\sigma_i^2$ from N($\\mu_n,\\sigma^2\\Omega_n^2$)"
   ]
  },
  {
   "cell_type": "code",
   "execution_count": 14,
   "metadata": {},
   "outputs": [
    {
     "data": {
      "text/plain": [
       "(array([ 0.44530639, -0.59140307, -0.48787457, -0.17013566]),\n",
       " array([-0.04777506, -1.69137007, -1.65918852, -1.30728254]),\n",
       " array([0.93439513, 0.53263736, 0.68467079, 1.00100206]))"
      ]
     },
     "execution_count": 14,
     "metadata": {},
     "output_type": "execute_result"
    }
   ],
   "source": [
    "#Calculate 95% credible intervals\n",
    "N = 10000 #number of Monte Carlo samples\n",
    "sigma2 = 1/np.random.gamma(a_n, 1/b_n, N)\n",
    "betas = np.zeros((N,p))\n",
    "# draw N samples from the marginal posterior of beta\n",
    "for i in range(0,N):\n",
    "    s2 =sigma2[i]\n",
    "    cov = s2*Om_n\n",
    "\n",
    "    betas[i,] = np.random.multivariate_normal(mu_n,cov,1)\n",
    "\n",
    "#find the mean of each column which corresponds to each beta coefficient     \n",
    "mu_beta = np.mean(betas, axis=0)\n",
    "#find the 2.5 and 97.5 percentils which correspond to each beta coefficient \n",
    "lower95 = np.percentile(betas,2.5,axis=0)\n",
    "upper95 = np.percentile(betas,97.5,axis=0)\n",
    "mu_beta, lower95, upper95"
   ]
  },
  {
   "cell_type": "markdown",
   "metadata": {},
   "source": [
    "As before we put it all in a function. This is quite handy as it is hard to find such a function in Python!!As before we put it all in a function. This is quite handy as it is hard to find such a function in Python!!"
   ]
  },
  {
   "cell_type": "code",
   "execution_count": 15,
   "metadata": {},
   "outputs": [],
   "source": [
    "# function for Bayesian Linear regression, return posterior mean and 95% CIs\n",
    "def BLR(X,y,mu_0,Om_0_inv,a_0,b_0,ind_names,N):\n",
    "    col_names = ['posterior mean','lower 95% bound','upper 95% bound']\n",
    "    n,p = X.shape\n",
    "    XtX = X.T.dot(X)\n",
    "    Om_n_inv = XtX + Om_0_inv\n",
    "    Om_n = sc.linalg.inv(Om_n_inv)\n",
    "    term1 = Om_0_inv.dot(mu_0)+X.T.dot(y)\n",
    "    mu_n = Om_n.dot(term1)\n",
    "    a_n = a_0 + n/2\n",
    "    term2 = y.T.dot(y)+mu_0.dot(Om_0_inv.dot(mu_0))-mu_n.dot(Om_n_inv.dot(mu_n))\n",
    "    b_n = b_0 + term2/2\n",
    "    sigma2 = 1/np.random.gamma(a_n, 1/b_n, N)\n",
    "    betas = np.zeros((N,p))\n",
    "    # draw N samples from the marginal posterior of beta\n",
    "    for i in range(0,N):\n",
    "        s2 =sigma2[i]\n",
    "        cov = s2*Om_n\n",
    "        betas[i,] = np.random.multivariate_normal(mu_n,cov,1)\n",
    "\n",
    "    #find the mean of each column which corresponds to each beta coefficient     \n",
    "    mu_beta = np.mean(betas, axis=0)\n",
    "    #find the 2.5 and 97.5 percentils which correspond to each beta coefficient \n",
    "    lower95 = np.percentile(betas,2.5,axis=0)\n",
    "    upper95 = np.percentile(betas,97.5,axis=0)\n",
    "    results = np.column_stack([mu_beta,lower95,upper95])\n",
    "    results = pd.DataFrame(results,columns = col_names,index=ind_names)\n",
    "    return results, mu_n, Om_n, a_n, b_n"
   ]
  },
  {
   "cell_type": "markdown",
   "metadata": {},
   "source": [
    "### Marginal likelihood / Model Evidence\n",
    "\n",
    "Finally we will calculate the marginal likelihood / model evidence of a given model. We will use the following trick covered in the lecture\n",
    "\n",
    "We can write\n",
    "$$\n",
    "\\pi(\\beta,\\sigma^2|y,X)=\\frac{\\pi(y|\\beta,\\sigma^2,X)\\pi(\\beta,\\sigma^2)}{\\pi(y|X)},\n",
    "$$\n",
    "or else\n",
    "$$\n",
    "\\pi(y|X)=\\frac{\\pi(y|\\beta,\\sigma^2,X)\\pi(\\beta,\\sigma^2)}{\\pi(\\beta,\\sigma^2|y,X)},\n",
    "$$\n",
    "for all $\\beta, \\sigma^2$.\n",
    "\n",
    "The expression above contains known Normal and Inverse Gamma pdfs so we can just evaluate for -say- the posterior mean of $\\beta$, $\\sigma^2$.\n",
    "\n",
    "The calculation involves the following steps\n",
    "\n",
    "1. Specify data and prior\n",
    "2. get the parameters of the posteriod distribution\n",
    "3. evaluate the log-likelihood, log-prior and log-posterior at the posterior mean\n",
    "4. The log-evidence is equal to log-likelihood + log-prior - log-posterior"
   ]
  },
  {
   "cell_type": "code",
   "execution_count": 16,
   "metadata": {},
   "outputs": [
    {
     "data": {
      "text/plain": [
       "-18.21251591383808"
      ]
     },
     "execution_count": 16,
     "metadata": {},
     "output_type": "execute_result"
    }
   ],
   "source": [
    "# Step 1\n",
    "npower = 3\n",
    "predictors = ['x0','x']\n",
    "predictors.extend(['x%d'%i for i in range(2,npower+1)])\n",
    "X = data[predictors]\n",
    "y = data['y']\n",
    "n,p = X.shape\n",
    "\n",
    "# Step 2\n",
    "mu_0 = np.zeros(p)\n",
    "XtX = X.T.dot(X)\n",
    "Om_0_inv = XtX/n #unit information prior\n",
    "a_0 = 0.1\n",
    "b_0 = 0.1\n",
    "N=10000 #Monte Carlo sample size\n",
    "results, mu_n, Om_n, a_n, b_n = BLR(X,y,mu_0,Om_0_inv,a_0,b_0,predictors,N)\n",
    "\n",
    "# Step 3\n",
    "# evaluate log-likelihood\n",
    "beta = mu_n\n",
    "sigma2 = b_n/(a_n-1)\n",
    "Om_0 = sc.linalg.inv(Om_0_inv)\n",
    "mu = X.dot(beta)\n",
    "cov = sigma2*np.eye(n)\n",
    "ll = sc.stats.multivariate_normal.logpdf(y,mu,cov)\n",
    "# evaluate log-prior\n",
    "lprior = a_0*np.log(b_0)-sc.special.loggamma(a_0)- (a_0+1)*np.log(sigma2)-b_0/sigma2\n",
    "lprior = lprior + sc.stats.multivariate_normal.logpdf(beta,mu_0,sigma2*Om_0)\n",
    "# evaluate log-posterior\n",
    "lpost = a_n*np.log(b_n)-sc.special.loggamma(a_n)- (a_n+1)*np.log(sigma2)-b_n/sigma2\n",
    "lpost = lpost + sc.stats.multivariate_normal.logpdf(beta,mu_n,sigma2*Om_n)\n",
    "\n",
    "lmodevid = ll+lprior-lpost\n",
    "lmodevid"
   ]
  },
  {
   "cell_type": "markdown",
   "metadata": {},
   "source": [
    "Let's make it a function. Again not easy to find such a function, keep it!"
   ]
  },
  {
   "cell_type": "code",
   "execution_count": 17,
   "metadata": {},
   "outputs": [],
   "source": [
    "def ModEvidence(X,y,mu_n,Om_n,mu_0,Om_0_inv,a_n,b_n,a_0,b_0): \n",
    "    beta = mu_n\n",
    "    sigma2 = b_n/(a_n-1)\n",
    "    Om_0 = sc.linalg.inv(Om_0_inv)\n",
    "    mu = X.dot(beta)\n",
    "    cov = sigma2*np.eye(X.shape[0])\n",
    "    ll = sc.stats.multivariate_normal.logpdf(y,mu,cov)\n",
    "    # evaluate log-prior\n",
    "    lprior = a_0*np.log(b_0)-sc.special.loggamma(a_0)- (a_0+1)*np.log(sigma2)-b_0/sigma2\n",
    "    lprior = lprior + sc.stats.multivariate_normal.logpdf(beta,mu_0,sigma2*Om_0)\n",
    "    # evaluate log-posterior\n",
    "    lpost = a_n*np.log(b_n)-sc.special.loggamma(a_n)- (a_n+1)*np.log(sigma2)-b_n/sigma2\n",
    "    lpost = lpost +sc.stats.multivariate_normal.logpdf(beta,mu_n,sigma2*Om_n)\n",
    "    lmodevid = ll+lprior-lpost\n",
    "    return lmodevid"
   ]
  },
  {
   "cell_type": "markdown",
   "metadata": {},
   "source": [
    "Now to get the evidence for a model we can simply use the code below"
   ]
  },
  {
   "cell_type": "code",
   "execution_count": 18,
   "metadata": {},
   "outputs": [
    {
     "data": {
      "text/plain": [
       "-25.122117003562526"
      ]
     },
     "execution_count": 18,
     "metadata": {},
     "output_type": "execute_result"
    }
   ],
   "source": [
    "# Data\n",
    "npower = 2\n",
    "predictors = ['x0','x']\n",
    "predictors.extend(['x%d'%i for i in range(2,npower+1)])\n",
    "X = data[predictors]\n",
    "y = data['y']\n",
    "n,p = X.shape\n",
    "\n",
    "# Prior\n",
    "mu_0 = np.zeros(p)\n",
    "XtX = X.T.dot(X)\n",
    "Om_0_inv = XtX/n #unit information prior\n",
    "a_0 = 0.1\n",
    "b_0 = 0.1\n",
    "\n",
    "# Calculation\n",
    "N=10000 #Monte Carlo sample size\n",
    "results, mu_n, Om_n, a_n, b_n = BLR(X,y,mu_0,Om_0_inv,a_0,b_0,predictors,N)\n",
    "lmodevid = ModEvidence(X,y,mu_n,Om_n,mu_0,Om_0_inv,a_n,b_n,a_0,b_0)\n",
    "lmodevid"
   ]
  },
  {
   "cell_type": "markdown",
   "metadata": {},
   "source": [
    "Consider polynomials from order 2 to 6. Find the order of polynomial with the highest model evidence."
   ]
  },
  {
   "cell_type": "code",
   "execution_count": 19,
   "metadata": {},
   "outputs": [
    {
     "name": "stdout",
     "output_type": "stream",
     "text": [
      "Best polynomial order: 3\n"
     ]
    }
   ],
   "source": [
    "\n",
    "def calculate_model_evidence(data, y_col, predictors, a_0=0.1, b_0=0.1, N=10000):\n",
    "    X = data[predictors]\n",
    "    y = data[y_col]\n",
    "    n, p = X.shape\n",
    "    \n",
    "    mu_0 = np.zeros(p)\n",
    "    XtX = X.T.dot(X)\n",
    "    Om_0_inv = XtX / n\n",
    "    \n",
    "    # Calculations\n",
    "    results, mu_n, Om_n, a_n, b_n = BLR(X, y, mu_0, Om_0_inv, a_0, b_0, predictors, N)\n",
    "    lmodevid = ModEvidence(X, y, mu_n, Om_n, mu_0, Om_0_inv, a_n, b_n, a_0, b_0)\n",
    "    \n",
    "    return lmodevid, mu_n\n",
    "def find_best_polynomial_order(data, y_col, orders, a_0=0.1, b_0=0.1, N=10000):\n",
    "    best_order = None\n",
    "    best_lmodevid = -np.inf\n",
    "    \n",
    "    for order in orders:\n",
    "        predictors = ['x0', 'x']\n",
    "        predictors.extend(['x%d' % i for i in range(2, order + 1)])\n",
    "        lmodevid, _=calculate_model_evidence(data, y_col, predictors, a_0, b_0, N)\n",
    "\n",
    "        \n",
    "        if lmodevid > best_lmodevid:\n",
    "            best_lmodevid = lmodevid\n",
    "            best_order = order\n",
    "    \n",
    "    return best_order\n",
    "\n",
    "\n",
    "\n",
    "orders = range(2, 7)\n",
    "best_order = find_best_polynomial_order(data, 'y', orders, a_0=0.1, b_0=0.1, N=10000)\n",
    "print(\"Best polynomial order:\", best_order)"
   ]
  },
  {
   "cell_type": "markdown",
   "metadata": {},
   "source": [
    "### Autmobile Bodily Injury Claims Data\n",
    "\n",
    "Source: Insurance Research Council (IRC)\n",
    "\n",
    "The data are automobile injury claims data using data from the Insurance Research Council (IRC), a division of the American Institute for Chartered Property Casualty Underwriters and the Insurance Institute of America. The data, collected in 2002, contains information on the gender of the claimant, attorney involvement, years of driving experience and the economic loss (LOSS, in thousands). A detailed description of the variables in the data is provided below:\n",
    "\n",
    "- Attorney: Whether the claimant is represented by an attorney (=1 if yes and =0 if no)\n",
    "- CLMSEX: Claimant’s gender (=1 if male and =0 if female \n",
    "- CLMAGE: Claimant’s age minus the age driving license was obtained\n",
    "- LOSS: The claimant’s total economic loss (in thousands $)\n",
    "\n",
    "For confidentiality issues we consider here a sample of  simulated data similar to that of a state is considered. \n",
    "\n",
    "The data are in the provided file 'automobileBI.csv'"
   ]
  },
  {
   "cell_type": "code",
   "execution_count": 20,
   "metadata": {},
   "outputs": [
    {
     "data": {
      "text/html": [
       "<div>\n",
       "<style scoped>\n",
       "    .dataframe tbody tr th:only-of-type {\n",
       "        vertical-align: middle;\n",
       "    }\n",
       "\n",
       "    .dataframe tbody tr th {\n",
       "        vertical-align: top;\n",
       "    }\n",
       "\n",
       "    .dataframe thead th {\n",
       "        text-align: right;\n",
       "    }\n",
       "</style>\n",
       "<table border=\"1\" class=\"dataframe\">\n",
       "  <thead>\n",
       "    <tr style=\"text-align: right;\">\n",
       "      <th></th>\n",
       "      <th>ATTORNEY</th>\n",
       "      <th>CLMSEX</th>\n",
       "      <th>CLMAGE</th>\n",
       "      <th>LOSS</th>\n",
       "    </tr>\n",
       "  </thead>\n",
       "  <tbody>\n",
       "    <tr>\n",
       "      <th>0</th>\n",
       "      <td>1</td>\n",
       "      <td>0</td>\n",
       "      <td>1.8</td>\n",
       "      <td>6.38</td>\n",
       "    </tr>\n",
       "    <tr>\n",
       "      <th>1</th>\n",
       "      <td>0</td>\n",
       "      <td>0</td>\n",
       "      <td>5.6</td>\n",
       "      <td>0.95</td>\n",
       "    </tr>\n",
       "    <tr>\n",
       "      <th>2</th>\n",
       "      <td>1</td>\n",
       "      <td>1</td>\n",
       "      <td>1.4</td>\n",
       "      <td>1.88</td>\n",
       "    </tr>\n",
       "    <tr>\n",
       "      <th>3</th>\n",
       "      <td>0</td>\n",
       "      <td>1</td>\n",
       "      <td>5.4</td>\n",
       "      <td>0.11</td>\n",
       "    </tr>\n",
       "    <tr>\n",
       "      <th>4</th>\n",
       "      <td>1</td>\n",
       "      <td>0</td>\n",
       "      <td>0.9</td>\n",
       "      <td>6.95</td>\n",
       "    </tr>\n",
       "  </tbody>\n",
       "</table>\n",
       "</div>"
      ],
      "text/plain": [
       "   ATTORNEY  CLMSEX  CLMAGE  LOSS\n",
       "0         1       0     1.8  6.38\n",
       "1         0       0     5.6  0.95\n",
       "2         1       1     1.4  1.88\n",
       "3         0       1     5.4  0.11\n",
       "4         1       0     0.9  6.95"
      ]
     },
     "execution_count": 20,
     "metadata": {},
     "output_type": "execute_result"
    }
   ],
   "source": [
    "Auto = pd.read_csv(\"automobileBI.csv\") \n",
    "Auto.head()"
   ]
  },
  {
   "cell_type": "code",
   "execution_count": 21,
   "metadata": {},
   "outputs": [
    {
     "data": {
      "text/html": [
       "<div>\n",
       "<style scoped>\n",
       "    .dataframe tbody tr th:only-of-type {\n",
       "        vertical-align: middle;\n",
       "    }\n",
       "\n",
       "    .dataframe tbody tr th {\n",
       "        vertical-align: top;\n",
       "    }\n",
       "\n",
       "    .dataframe thead th {\n",
       "        text-align: right;\n",
       "    }\n",
       "</style>\n",
       "<table border=\"1\" class=\"dataframe\">\n",
       "  <thead>\n",
       "    <tr style=\"text-align: right;\">\n",
       "      <th></th>\n",
       "      <th>ATTORNEY</th>\n",
       "      <th>CLMSEX</th>\n",
       "      <th>CLMAGE</th>\n",
       "      <th>LOSS</th>\n",
       "    </tr>\n",
       "  </thead>\n",
       "  <tbody>\n",
       "    <tr>\n",
       "      <th>count</th>\n",
       "      <td>1296.000000</td>\n",
       "      <td>1296.000000</td>\n",
       "      <td>1296.000000</td>\n",
       "      <td>1296.000000</td>\n",
       "    </tr>\n",
       "    <tr>\n",
       "      <th>mean</th>\n",
       "      <td>0.510802</td>\n",
       "      <td>0.423611</td>\n",
       "      <td>4.885571</td>\n",
       "      <td>4.616821</td>\n",
       "    </tr>\n",
       "    <tr>\n",
       "      <th>std</th>\n",
       "      <td>0.500076</td>\n",
       "      <td>0.494321</td>\n",
       "      <td>4.586972</td>\n",
       "      <td>7.570060</td>\n",
       "    </tr>\n",
       "    <tr>\n",
       "      <th>min</th>\n",
       "      <td>0.000000</td>\n",
       "      <td>0.000000</td>\n",
       "      <td>0.100000</td>\n",
       "      <td>0.010000</td>\n",
       "    </tr>\n",
       "    <tr>\n",
       "      <th>25%</th>\n",
       "      <td>0.000000</td>\n",
       "      <td>0.000000</td>\n",
       "      <td>1.700000</td>\n",
       "      <td>0.637500</td>\n",
       "    </tr>\n",
       "    <tr>\n",
       "      <th>50%</th>\n",
       "      <td>1.000000</td>\n",
       "      <td>0.000000</td>\n",
       "      <td>3.300000</td>\n",
       "      <td>2.000000</td>\n",
       "    </tr>\n",
       "    <tr>\n",
       "      <th>75%</th>\n",
       "      <td>1.000000</td>\n",
       "      <td>1.000000</td>\n",
       "      <td>6.600000</td>\n",
       "      <td>5.227500</td>\n",
       "    </tr>\n",
       "    <tr>\n",
       "      <th>max</th>\n",
       "      <td>1.000000</td>\n",
       "      <td>1.000000</td>\n",
       "      <td>31.300000</td>\n",
       "      <td>76.170000</td>\n",
       "    </tr>\n",
       "  </tbody>\n",
       "</table>\n",
       "</div>"
      ],
      "text/plain": [
       "          ATTORNEY       CLMSEX       CLMAGE         LOSS\n",
       "count  1296.000000  1296.000000  1296.000000  1296.000000\n",
       "mean      0.510802     0.423611     4.885571     4.616821\n",
       "std       0.500076     0.494321     4.586972     7.570060\n",
       "min       0.000000     0.000000     0.100000     0.010000\n",
       "25%       0.000000     0.000000     1.700000     0.637500\n",
       "50%       1.000000     0.000000     3.300000     2.000000\n",
       "75%       1.000000     1.000000     6.600000     5.227500\n",
       "max       1.000000     1.000000    31.300000    76.170000"
      ]
     },
     "execution_count": 21,
     "metadata": {},
     "output_type": "execute_result"
    }
   ],
   "source": [
    "Auto.describe()"
   ]
  },
  {
   "cell_type": "code",
   "execution_count": 22,
   "metadata": {},
   "outputs": [
    {
     "data": {
      "image/png": "[encoded data removed]",
      "text/plain": [
       "<Figure size 1000x1000 with 20 Axes>"
      ]
     },
     "metadata": {},
     "output_type": "display_data"
    }
   ],
   "source": [
    "sns.pairplot(Auto)\n",
    "plt.show()"
   ]
  },
  {
   "cell_type": "markdown",
   "metadata": {},
   "source": [
    "Consider all possible regression models with the LOSS variable as response and some (or all or none) of the other variables present (in their current form, no polynomials). There are 8 such models.\n",
    "\n",
    "Calculate the model evidence for each of them, report the optimal one and present posterior estimates of its coefficients."
   ]
  },
  {
   "cell_type": "code",
   "execution_count": 23,
   "metadata": {},
   "outputs": [
    {
     "name": "stdout",
     "output_type": "stream",
     "text": [
      "Best model predictors: ('ATTORNEY', 'CLMAGE')\n",
      "Best model log evidence: -4454.542855421381\n",
      "Posterior estimates of coefficients: [5.72902644 0.1782908 ]\n"
     ]
    }
   ],
   "source": [
    "def find_best_model(data, response, predictors, a_0=0.1, b_0=0.1, N=10000):\n",
    "    best_lmodevid = -np.inf\n",
    "    best_mu_n = None\n",
    "    \n",
    "    for k in range(1, len(predictors) + 1):\n",
    "        for subset in combinations(predictors, k):#Creates a subset of all 8 possibel predictors \n",
    "            lmodevid, mu_n = calculate_model_evidence(data, response, list(subset), a_0, b_0, N)\n",
    "            \n",
    "            if lmodevid > best_lmodevid:\n",
    "                best_lmodevid = lmodevid\n",
    "                best_model = subset\n",
    "                best_mu_n = mu_n\n",
    "    \n",
    "    return best_model, best_lmodevid, best_mu_n\n",
    "\n",
    "\n",
    "response = 'LOSS'\n",
    "predictors = ['ATTORNEY', 'CLMSEX', 'CLMAGE']\n",
    "\n",
    "best_model, best_lmodevid, best_mu_n = find_best_model(Auto, response, predictors)\n",
    "print(\"Best model predictors:\", best_model)\n",
    "print(\"Best model log evidence:\", best_lmodevid)\n",
    "print(\"Posterior estimates of coefficients:\", best_mu_n)"
   ]
  }
 ],
 "metadata": {
  "kernelspec": {
   "display_name": "Python 3 (ipykernel)",
   "language": "python",
   "name": "python3"
  },
  "language_info": {
   "codemirror_mode": {
    "name": "ipython",
    "version": 3
   },
   "file_extension": ".py",
   "mimetype": "text/x-python",
   "name": "python",
   "nbconvert_exporter": "python",
   "pygments_lexer": "ipython3",
   "version": "3.12.7"
  }
 },
 "nbformat": 4,
 "nbformat_minor": 4
}

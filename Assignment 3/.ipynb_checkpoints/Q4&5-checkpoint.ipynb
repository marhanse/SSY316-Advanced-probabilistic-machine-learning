{
 "cells": [
  {
   "cell_type": "code",
   "execution_count": 1,
   "metadata": {},
   "outputs": [],
   "source": [
    "import numpy as np\n",
    "import pandas as pd\n",
    "from sklearn.metrics import (\n",
    "    accuracy_score,\n",
    "    precision_score,\n",
    "    recall_score,\n",
    "    f1_score,\n",
    "    roc_curve,\n",
    "    auc,\n",
    ")\n",
    "from sklearn.model_selection import train_test_split\n",
    "import matplotlib.pyplot as plt\n",
    "from sklearn.linear_model import LogisticRegression"
   ]
  },
  {
   "cell_type": "code",
   "execution_count": 2,
   "metadata": {},
   "outputs": [],
   "source": [
    "# Load and preprocess data\n",
    "def Normalize(X):\n",
    "    X_mean = np.mean(X, axis=0)\n",
    "    X_std = np.std(X, axis=0)\n",
    "    X_standardize = (X-X_mean)/X_std\n",
    "    return X_standardize                       # TODO: Implement the normalization function\n",
    "\n",
    "def load_data():\n",
    "    # url_hospital = \"https://archive.ics.uci.edu/ml/machine-learning-databases/haberman/haberman.data\"\n",
    "    data = pd.read_csv(\n",
    "        \"haberman.csv\",\n",
    "        header=None,\n",
    "        names=[\"age\", \"year\", \"nodes_detected\", \"survival_status\"],\n",
    "    )\n",
    "    X = data.iloc[:, :3].to_numpy()\n",
    "    y = (data.iloc[:, 3] == 1).astype(int)  # Convert survival status to binary\n",
    "    X = Normalize(X)\n",
    "    \n",
    "    return X, y"
   ]
  },
  {
   "cell_type": "code",
   "execution_count": 3,
   "metadata": {},
   "outputs": [
    {
     "name": "stdout",
     "output_type": "stream",
     "text": [
      "Data Summary\n",
      "              age        year  nodes_detected  survival_status\n",
      "count  306.000000  306.000000      306.000000       306.000000\n",
      "mean    52.457516   62.852941        4.026144         1.264706\n",
      "std     10.803452    3.249405        7.189654         0.441899\n",
      "min     30.000000   58.000000        0.000000         1.000000\n",
      "25%     44.000000   60.000000        0.000000         1.000000\n",
      "50%     52.000000   63.000000        1.000000         1.000000\n",
      "75%     60.750000   65.750000        4.000000         2.000000\n",
      "max     83.000000   69.000000       52.000000         2.000000\n",
      "\n",
      "Number of null values in the data\n",
      "age                0\n",
      "year               0\n",
      "nodes_detected     0\n",
      "survival_status    0\n",
      "dtype: int64\n"
     ]
    },
    {
     "data": {
      "image/png": "[encoded data removed]",
      "text/plain": [
       "<Figure size 640x480 with 1 Axes>"
      ]
     },
     "metadata": {},
     "output_type": "display_data"
    }
   ],
   "source": [
    "# Explore the Data\n",
    "data = pd.read_csv(\n",
    "        \"haberman.csv\",\n",
    "        header=None,\n",
    "        names=[\"age\", \"year\", \"nodes_detected\", \"survival_status\"],\n",
    "    )\n",
    "\n",
    "print(r\"Data Summary\")\n",
    "print(f\"{data.describe()}\\n\")\n",
    "print(\"Number of null values in the data\")\n",
    "print(data.isnull().sum())\n",
    "\n",
    "plt.bar(data['survival_status'].value_counts().index, data['survival_status'].value_counts().values, color=['skyblue', 'orange'])\n",
    "\n",
    "plt.title(\"Class Distribution\")\n",
    "plt.xlabel(\"Survival Status\")\n",
    "plt.ylabel(\"Frequency\")\n",
    "plt.xticks(ticks=[1, 2], labels=[\"Survived 5 years or longer\", \"Died within 5 years\"]) \n",
    "plt.savefig('Class_Distribution.png')\n",
    "plt.show()"
   ]
  },
  {
   "cell_type": "code",
   "execution_count": 4,
   "metadata": {},
   "outputs": [],
   "source": [
    "# Logistic function\n",
    "def sigmoid(x):\n",
    "    return 1 / (1 + np.exp(-x))                      # TODO: Implement the sigmoid function\n",
    "\n",
    "# Negative Log-Likelihood\n",
    "def nll(beta, X, y):\n",
    "    z = X @ beta\n",
    "    g_x = sigmoid(z)\n",
    "    nll = -y.T @ np.log(g_x) - (1-y).T @ np.log(1-g_x)\n",
    "    return nll                # TODO: Implement NLL function\n",
    "\n",
    "# Gradient of NLL\n",
    "def gradient(beta, X, y):\n",
    "    N = X.shape[0]\n",
    "    z = X @ beta\n",
    "    g_x = sigmoid(z)\n",
    "    return X.T @ (g_x - y)    # TODO: Implement the gradient of NLL\n",
    "\n",
    "# Hessian of NLL\n",
    "def hessian(beta, X):\n",
    "    N = X.shape[0]\n",
    "    z = X @ beta\n",
    "    g_x = sigmoid(z)\n",
    "    W = g_x * (1 - g_x)\n",
    "    return (X.T*W) @ X  # TODO: Implement the hessian of NLL"
   ]
  },
  {
   "cell_type": "code",
   "execution_count": 6,
   "metadata": {},
   "outputs": [
    {
     "name": "stdout",
     "output_type": "stream",
     "text": [
      "Our Gradient Implementation: [ 9.17329379 -0.64370432 38.71362156]\n",
      "Finite Differences: [ 9.17329379 -0.64370433 38.71362158]\n"
     ]
    }
   ],
   "source": [
    "def finite_difference(X, y, epsilon=1e-6):\n",
    "    fd_method = np.zeros(3)\n",
    "    for j in range(len(beta)):\n",
    "        beta1 = np.zeros(X.shape[1])  \n",
    "        beta2 = np.zeros(X.shape[1])  \n",
    "        beta1[j] += epsilon\n",
    "        beta2[j] -= epsilon\n",
    "        fd_method[j] = (nll(beta1, X, y) - nll(beta2, X, y)) / (2 * epsilon)\n",
    "    return fd_method\n",
    "    \n",
    "X,y = load_data()\n",
    "beta = np.zeros(X.shape[1])  \n",
    "grad = gradient(beta, X, y)  \n",
    "fin_diff = finite_difference(X, y)\n",
    "\n",
    "print(\"Our Gradient Implementation:\", grad)\n",
    "print(\"Finite Differences:\", fin_diff)"
   ]
  },
  {
   "cell_type": "code",
   "execution_count": 7,
   "metadata": {},
   "outputs": [],
   "source": [
    "def nll_regularization(beta, X, y, lamd):\n",
    "    N = X.shape[0]\n",
    "    z = X @ beta\n",
    "    g_x = sigmoid(z)\n",
    "    nll = -y.T @ np.log(g_x) - (1-y).T @ np.log(1-g_x) + (lamd/2)*beta.T@beta\n",
    "    return nll                # TODO: Implement NLL function\n",
    "    \n",
    "# Gradient of NLL\n",
    "def gradient_regularization(beta, X, y, lamd):\n",
    "    N = X.shape[0]\n",
    "    z = X @ beta\n",
    "    g_x = sigmoid(z)\n",
    "    return X.T @ (g_x - y) + lamd*beta    # TODO: Implement the gradient of NLL\n",
    "\n",
    "# Hessian of NLL\n",
    "def hessian_regularization(beta, X, lamd):\n",
    "    N = X.shape[0]\n",
    "    z = X @ beta\n",
    "    g_x = sigmoid(z)\n",
    "    W = g_x * (1 - g_x)\n",
    "    return (X.T*W) @ X + lamd * np.eye(X.shape[1])  # TODO: Implement the hessian of NLL\n"
   ]
  },
  {
   "cell_type": "code",
   "execution_count": 8,
   "metadata": {},
   "outputs": [],
   "source": [
    "# Newton-Raphson optimization\n",
    "def newton_raphson(X, y, tol=1e-5, max_iter=1000):\n",
    "    intercept = np.ones((X.shape[0], 1)) \n",
    "    X = np.hstack((intercept, X))\n",
    "    beta = np.zeros(X.shape[1])     # TODO: Implement the Newton-Raphson optimization\n",
    "    prev_loss = nll(beta, X, y)\n",
    "    epsilon = 1e-6\n",
    "    for i in range(max_iter):\n",
    "        g = gradient(beta, X, y)\n",
    "        H = hessian(beta, X)\n",
    "        \n",
    "        H += epsilon * np.eye(H.shape[0])\n",
    "        H_inv = np.linalg.inv(H)\n",
    "        beta -= H_inv @ g\n",
    "        current_loss = nll(beta, X, y)\n",
    "        if np.abs(prev_loss-current_loss) < tol:\n",
    "            print(f\"Converged in {i+1} iterations.\")\n",
    "            print(f\"Loss after {i+1} iterations: {current_loss}\")\n",
    "            break\n",
    "    return beta\n",
    "\n",
    "# Newton-Raphson optimization\n",
    "def newton_raphson_regularization(X, y, lamd, tol=1e-5, max_iter=1000):\n",
    "    intercept = np.ones((X.shape[0], 1)) \n",
    "    X = np.hstack((intercept, X))\n",
    "    beta = np.zeros(X.shape[1])     # TODO: Implement the Newton-Raphson optimization\n",
    "    prev_loss = nll(beta, X, y)\n",
    "    epsilon = 1e-6\n",
    "    for i in range(max_iter):\n",
    "        g = gradient_regularization(beta, X, y, lamd)\n",
    "        H = hessian_regularization(beta, X, lamd)\n",
    "        \n",
    "        H += epsilon * np.eye(H.shape[0])\n",
    "        H_inv = np.linalg.inv(H)\n",
    "        beta -= H_inv @ g\n",
    "        current_loss = nll(beta, X, y)\n",
    "        if np.abs(prev_loss-current_loss) < tol:\n",
    "            print(f\"Converged in {i+1} iterations.\")\n",
    "            print(f\"Loss after {i+1} iterations: {current_loss}\")\n",
    "            break\n",
    "    return beta"
   ]
  },
  {
   "cell_type": "code",
   "execution_count": 9,
   "metadata": {},
   "outputs": [],
   "source": [
    "def predict(X, beta):\n",
    "    intercept = np.ones((X.shape[0], 1)) \n",
    "    X = np.hstack((intercept, X))\n",
    "    z = X @ beta\n",
    "    g_x = sigmoid(z)\n",
    "    return np.where(g_x >  0.55, 1, 0)  # TODO: Implement the prediction function"
   ]
  },
  {
   "cell_type": "code",
   "execution_count": 10,
   "metadata": {},
   "outputs": [
    {
     "name": "stdout",
     "output_type": "stream",
     "text": [
      "Newton Raphson Accuracy: 0.71\n",
      "Newton Raphson Precision: 0.74\n",
      "Newton Raphson Recall: 0.91\n",
      "Newton Raphson F1 Score: 0.82\n",
      "Intercept: 1.1389180717341307\n",
      "Beta Coeff: [-0.35783559  0.13169748 -0.73797365]\n"
     ]
    }
   ],
   "source": [
    "# Main workflow\n",
    "\n",
    "# Load and preprocess data\n",
    "X, y = load_data()\n",
    "\n",
    "# Split data into training and test sets\n",
    "X_train, X_test, y_train, y_test = train_test_split(\n",
    "    X, y, test_size=0.2, random_state=42\n",
    ")\n",
    "\n",
    "# Train logistic regression model\n",
    "beta = newton_raphson(X_train, y_train)\n",
    "\n",
    "# Predictions and evaluation metrics for Newton Raphson\n",
    "NP_preds = predict(X_test, beta)\n",
    "NP_accuracy = accuracy_score(y_test, NP_preds)\n",
    "NP_precision = precision_score(y_test, NP_preds)\n",
    "NP_recall = recall_score(y_test, NP_preds)\n",
    "NP_f1 = f1_score(y_test, NP_preds)\n",
    "\n",
    "# Print metrics\n",
    "print(f\"Newton Raphson Accuracy: {NP_accuracy:.2f}\")\n",
    "print(f\"Newton Raphson Precision: {NP_precision:.2f}\")\n",
    "print(f\"Newton Raphson Recall: {NP_recall:.2f}\")\n",
    "print(f\"Newton Raphson F1 Score: {NP_f1:.2f}\")\n",
    "print(f\"Intercept: {beta[0]}\")\n",
    "print(f\"Beta Coeff: {beta[1:]}\")"
   ]
  },
  {
   "cell_type": "code",
   "execution_count": 11,
   "metadata": {},
   "outputs": [
    {
     "name": "stdout",
     "output_type": "stream",
     "text": [
      "Newton Raphson L2-reg Accuracy: 0.71\n",
      "Newton Raphson L2-reg Precision: 0.74\n",
      "Newton Raphson L2-reg Recall: 0.91\n",
      "Newton Raphson L2-reg F1 Score: 0.82\n",
      "Intercept: 0.9089690606253708\n",
      "Beta Coeff: [-0.24943194  0.08839307 -0.5595791 ]\n"
     ]
    }
   ],
   "source": [
    "# Train logistic regression model\n",
    "beta_reg = newton_raphson_regularization(X_train, y_train, 10)\n",
    "\n",
    "# Predictions and evaluation metrics for Newton Raphson\n",
    "NP_preds = predict(X_test, beta_reg)\n",
    "NP_accuracy = accuracy_score(y_test, NP_preds)\n",
    "NP_precision = precision_score(y_test, NP_preds)\n",
    "NP_recall = recall_score(y_test, NP_preds)\n",
    "NP_f1 = f1_score(y_test, NP_preds)\n",
    "\n",
    "# Print metrics\n",
    "print(f\"Newton Raphson L2-reg Accuracy: {NP_accuracy:.2f}\")\n",
    "print(f\"Newton Raphson L2-reg Precision: {NP_precision:.2f}\")\n",
    "print(f\"Newton Raphson L2-reg Recall: {NP_recall:.2f}\")\n",
    "print(f\"Newton Raphson L2-reg F1 Score: {NP_f1:.2f}\")\n",
    "print(f\"Intercept: {beta_reg[0]}\")\n",
    "print(f\"Beta Coeff: {beta_reg[1:]}\")"
   ]
  },
  {
   "cell_type": "code",
   "execution_count": 12,
   "metadata": {},
   "outputs": [
    {
     "name": "stdout",
     "output_type": "stream",
     "text": [
      "Scikit Learn Accuracy: 0.69\n",
      "Scikit Learn Precision: 0.73\n",
      "Scikit Learn Recall: 0.91\n",
      "Scikit Learn F1 Score: 0.81\n",
      "Intercept: [1.13538518]\n",
      "Beta Coeff: [[-0.34552654  0.12646286 -0.71527507]]\n"
     ]
    }
   ],
   "source": [
    "# Train logistic regression model using sklearn\n",
    "logreg = LogisticRegression(fit_intercept=True, solver=\"lbfgs\")\n",
    "logreg.fit(X_train, y_train)\n",
    "\n",
    "# Predictions and evaluation metrics for Scikit Learn\n",
    "SC_preds = logreg.predict(X_test)\n",
    "SC_accuracy = accuracy_score(y_test, SC_preds)\n",
    "SC_precision = precision_score(y_test, SC_preds)\n",
    "SC_recall = recall_score(y_test, SC_preds)\n",
    "SC_f1 = f1_score(y_test, SC_preds)\n",
    "# Print metrics\n",
    "print(f\"Scikit Learn Accuracy: {SC_accuracy:.2f}\")\n",
    "print(f\"Scikit Learn Precision: {SC_precision:.2f}\")\n",
    "print(f\"Scikit Learn Recall: {SC_recall:.2f}\")\n",
    "print(f\"Scikit Learn F1 Score: {SC_f1:.2f}\")\n",
    "print(f\"Intercept: {logreg.intercept_}\")\n",
    "print(f\"Beta Coeff: {logreg.coef_}\")"
   ]
  },
  {
   "cell_type": "code",
   "execution_count": 13,
   "metadata": {},
   "outputs": [
    {
     "data": {
      "image/png": "[encoded data removed]",
      "text/plain": [
       "<Figure size 640x480 with 1 Axes>"
      ]
     },
     "metadata": {},
     "output_type": "display_data"
    }
   ],
   "source": [
    "# Plot ROC curve\n",
    "fpr, tpr, _ = roc_curve(y_test, NP_preds)\n",
    "fpr2, tpr2, _ = roc_curve(y_test, SC_preds)\n",
    "roc_auc = auc(fpr, tpr)\n",
    "roc_auc2 = auc(fpr2, tpr2)\n",
    "plt.plot(fpr, tpr, label=f\"Newton Raphson ROC curve (AUC = {roc_auc:.2f})\", linestyle=\"dotted\", linewidth=4, color=\"red\")\n",
    "plt.plot(fpr2, tpr2, label=f\"Scikit Learn ROC curve (AUC = {roc_auc2:.2f})\", color=\"blue\")\n",
    "plt.xlabel(\"False Positive Rate\")\n",
    "plt.ylabel(\"True Positive Rate\")\n",
    "plt.title(\"ROC Curve\")\n",
    "plt.legend()\n",
    "#plt.savefig(\"ROCthreshold0.55.png\")\n",
    "plt.show()"
   ]
  },
  {
   "cell_type": "code",
   "execution_count": 16,
   "metadata": {},
   "outputs": [],
   "source": [
    "# Gradient of the negative log-posterior\n",
    "def grad_neg_log_posterior(beta, X, y):\n",
    "    N = X.shape[0]\n",
    "    z = X @ beta\n",
    "    g_x = sigmoid(z)\n",
    "    return X.T @ (g_x - y) + beta   \n",
    "\n",
    "# Hessian of the negative log-posterior\n",
    "def hessian_neg_log_posterior(beta, X):\n",
    "    N = X.shape[0]\n",
    "    z = X @ beta\n",
    "    g_x = sigmoid(z)\n",
    "    W = g_x * (1 - g_x)\n",
    "    return (X.T*W) @ X  # TODO: Implement the hessian of Negative log-posterior\n"
   ]
  },
  {
   "cell_type": "code",
   "execution_count": 15,
   "metadata": {},
   "outputs": [
    {
     "name": "stdout",
     "output_type": "stream",
     "text": [
      "Laplace approximation Accuracy: 0.71\n",
      "Laplace approximation Precision: 0.74\n",
      "Laplace approximation Recall: 0.91\n",
      "Laplace approximation F1 Score: 0.82\n"
     ]
    }
   ],
   "source": [
    "hessian = hessian_neg_log_posterior\n",
    "gradient = grad_neg_log_posterior\n",
    "\n",
    "# Train logistic regression model for Laplace approximation\n",
    "LA_beta = newton_raphson(X_train, y_train)\n",
    "\n",
    "# Predictions and evaluation metrics for Newton Raphson\n",
    "LA_preds = predict(X_test, LA_beta)\n",
    "LA_accuracy = accuracy_score(y_test, LA_preds)\n",
    "LA_precision = precision_score(y_test, LA_preds)\n",
    "LA_recall = recall_score(y_test, LA_preds)\n",
    "LA_f1 = f1_score(y_test, LA_preds)\n",
    "\n",
    "# Print metrics\n",
    "print(f\"Laplace approximation Accuracy: {LA_accuracy:.2f}\")\n",
    "print(f\"Laplace approximation Precision: {LA_precision:.2f}\")\n",
    "print(f\"Laplace approximation Recall: {LA_recall:.2f}\")\n",
    "print(f\"Laplace approximation F1 Score: {LA_f1:.2f}\")"
   ]
  }
 ],
 "metadata": {
  "kernelspec": {
   "display_name": "Python 3 (ipykernel)",
   "language": "python",
   "name": "python3"
  },
  "language_info": {
   "codemirror_mode": {
    "name": "ipython",
    "version": 3
   },
   "file_extension": ".py",
   "mimetype": "text/x-python",
   "name": "python",
   "nbconvert_exporter": "python",
   "pygments_lexer": "ipython3",
   "version": "3.12.7"
  }
 },
 "nbformat": 4,
 "nbformat_minor": 4
}
